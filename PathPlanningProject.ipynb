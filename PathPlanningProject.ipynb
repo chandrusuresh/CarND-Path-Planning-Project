{
  "nbformat": 4,
  "nbformat_minor": 0,
  "metadata": {
    "colab": {
      "name": "PathPlanningProject",
      "provenance": [],
      "collapsed_sections": [
        "MpFIU9NBSkSv",
        "B0geH9eSVdEr",
        "PoV6L3FfVsnh",
        "d3qNBkwgWrrq"
      ],
      "authorship_tag": "ABX9TyPf2lKv2GugLKSLgczv4awu",
      "include_colab_link": true
    },
    "kernelspec": {
      "name": "python3",
      "display_name": "Python 3"
    }
  },
  "cells": [
    {
      "cell_type": "markdown",
      "metadata": {
        "id": "view-in-github",
        "colab_type": "text"
      },
      "source": [
        "<a href=\"https://colab.research.google.com/github/chandrusuresh/CarND-Path-Planning-Project/blob/master/PathPlanningProject.ipynb\" target=\"_parent\"><img src=\"https://colab.research.google.com/assets/colab-badge.svg\" alt=\"Open In Colab\"/></a>"
      ]
    },
    {
      "cell_type": "markdown",
      "metadata": {
        "id": "wvGhTaiCJIL_"
      },
      "source": [
        "# Path Planning Project\n",
        "\n",
        "In this project, a demonstration of a path planning algorithm is presented to help a vehicle navigate a busy highway as fast as possible within the speed limit of 50mph and as safe as possible without any collisions. There are 3 lanes on the highway and the path planning algorithm needs to choose an appropriate lane and speed for navigation. This demonstration is based on a simulator developed by Udacity and was completed as part of Udacity's Self-Driving Car Nanodegree. The [Udacity github repo](https://github.com/udacity/CarND-Path-Planning-Project) for this project has all the details about the software used in the simulator and the installation instructions.\n",
        "\n",
        "### Summary of Setup Instructions\n",
        "1. The project uses [uWebSocketIO](https://github.com/uNetworking/uWebSockets) for communication between the user-written algorithm and the simulator. Udacity has provided bash scripts to install this in both [Linux](https://github.com/udacity/CarND-Path-Planning-Project/blob/master/install-ubuntu.sh)/[Mac](https://github.com/udacity/CarND-Path-Planning-Project/blob/master/install-mac.sh) environments. These scripts are included in this repo.\n",
        "2. The simulator can be downloaded from [here](https://github.com/udacity/self-driving-car-sim/releases/tag/T3_v1.2).\n",
        "3. To run the simulator on Mac/Linux, first make the binary file executable with the following: `sudo chmod u+x term3_sim.x86_64`.\n",
        "\n",
        "### Basic Build Instructions (Linux/Mac)\n",
        "1. Clone this repo.\n",
        "2. Make a build directory: `mkdir build && cd build`\n",
        "3. Compile: `cmake .. && make`\n",
        "4. Run it: `./path_planning`\n",
        "This should setup a listener for the code to get data from the simulator.\n",
        "5. Launch the simulator from a terminal: `./term3_sim.x86_64`.\n",
        "6. Select the Path Planning project and click start to start the simulation.\n",
        "\n",
        "These steps should get any user in a Linux/Mac environment up and running with the code."
      ]
    },
    {
      "cell_type": "markdown",
      "metadata": {
        "id": "MpFIU9NBSkSv"
      },
      "source": [
        "## Goals & Problem Specifications\n",
        "The goal of this project is to develop a path planning algorithm to safely navigate a car around a virtual highway with other traffic that is driving ±10 MPH of the 50 MPH speed limit. The car's localization and sensor fusion data will be provided along with a sparse map list of waypoints around the highway. The car is supposed to maintain speeds as close as possible to the 50 MPH speed limit, which means passing slower traffic when possible. The algorithm is to avoid collision with other cars and keep the car within the marked road lanes at all times, unless during lane change maneuvers. The final goal is for the car to complete one loop around the 6946m highway (~5 minutes at 50 MPH) with acceleration and jerk strictly less than over 10 ms^-2^ & 10 ms^-2^ respectively."
      ]
    },
    {
      "cell_type": "markdown",
      "metadata": {
        "id": "B0geH9eSVdEr"
      },
      "source": [
        "## Map\n",
        "The map of the highway is in `data/highway_map.txt`\n",
        "\n",
        "Each waypoint in the list contains [x,y,s,dx,dy] values. x and y are the waypoint's map coordinate position, the s value is the distance along the road to get to that waypoint in meters, the dx and dy values define the unit normal vector pointing outward of the highway loop.\n",
        "\n",
        "The highway's waypoints loop around so the frenet s value, distance along the road, goes from 0 to 6945.554."
      ]
    },
    {
      "cell_type": "markdown",
      "metadata": {
        "id": "PoV6L3FfVsnh"
      },
      "source": [
        "## Localization\n",
        "Main car's localization Data (No Noise) is avilable as:\n",
        "*   [\"x\"]     The car's x position in map coordinates\n",
        "*   [\"y\"]     The car's y position in map coordinates\n",
        "*   [\"s\"]     The car's s position in frenet coordinates\n",
        "*   [\"d\"]     The car's d position in frenet coordinates\n",
        "*   [\"yaw\"]   The car's yaw angle in the map\n",
        "*   [\"speed\"] The car's speed in MPH"
      ]
    },
    {
      "cell_type": "markdown",
      "metadata": {
        "id": "d3qNBkwgWrrq"
      },
      "source": [
        "## Sensor Fusion\n",
        "Sensor fusion data containing a list of all other car's (noise-free) attributes on the same side of the road is available as the following 2D vector.\n",
        "\n",
        "[\"sensor_fusion\"] A 2d vector of cars\n",
        "Each item in the 2d vector is a vector containing the following info of each nearby car:\n",
        "*   unique ID\n",
        "*   x position in map coordinates\n",
        "*   y position in map coordinates\n",
        "*   x velocity in m/s\n",
        "*   y velocity in m/s\n",
        "*   Distance along road (s position in frenet coordinates)\n",
        "*   Cross-track error (d position in frenet coordinates)"
      ]
    },
    {
      "cell_type": "markdown",
      "metadata": {
        "id": "4I_yYBhtX1oe"
      },
      "source": [
        "## Other Implementation Details\n",
        "*   The car uses a perfect controller and will visit every (x,y) point in the trajectory list every .02 seconds. The units for the (x,y) points are in meters and the spacing of the points determines the speed of the car. The vector going from a point to the next point in the list dictates the angle of the car. Acceleration both in the tangential and normal directions is measured along with the jerk (the rate of change of total acceleration). The (x,y) point paths that the planner recieves should not have a total acceleration that goes over 10 m/s^2, also the jerk should not go over 50 m/s^3. (NOTE: As this is BETA, these requirements might change. Also currently jerk is over a .02 second interval, it would probably be better to average total acceleration over 1 second and measure jerk from that.\n",
        "\n",
        "*   There will be some latency between the simulator running and the path planner returning a path, with optimized code usually its not very long maybe just 1-3 time steps. During this delay the simulator will continue using points that it was last given, because of this its a good idea to store the last points you have used so you can have a smooth transition. previous_path_x, and previous_path_y can be helpful for this transition since they show the last points given to the simulator controller with the processed points already removed. You would either return a path that extends this previous path or make sure to create a new path that has a smooth transition with this last path.\n"
      ]
    },
    {
      "cell_type": "markdown",
      "metadata": {
        "id": "YWW2rW4WoCg_"
      },
      "source": [
        "## Details"
      ]
    },
    {
      "cell_type": "markdown",
      "metadata": {
        "id": "rNfgvh-tk_VR"
      },
      "source": [
        "### Finite State Machine\n",
        "Given that the highway to navigate has a fixed number of lanes (= 3), the following states are defined for the finite state machine.\n",
        "*   Keep Lane (KL) - This state essentially finds a trajectory that keeps the car within the current lane. The car is initialized at the start of the simulation to this state.\n",
        "*   Planning Lane Change Left/Right (PLCL/PLCR) - This state maintains the KL trajectory while adjusting the speed of the car to prepare the car for a lane change maneuver. The lane change is executed as soon as the safety and speed constraints are satisfied. Details of these conditions are described in subsequent sections.\n",
        "*   Lane Change Left/Right (LCL/LCR) - This state corresponds to when the car is executing the lane change maneuver. This is the only state where the car is allowed to cross between lanes.\n",
        "*   (Optional) Abort Lane Change- This state is critical for safety requirement, but is not an explicit part of this FSM. The safety and speed constraints mentioned above are constantly checked during the LCL/LCR states and when violated will change the state to KL. This state is specified here for the sake of completeness, but will not be discussed further.\n",
        "\n",
        "\n",
        "\n"
      ]
    },
    {
      "cell_type": "markdown",
      "metadata": {
        "id": "A2a_sGrNqf6Y"
      },
      "source": [
        "### Algorithm\n",
        "1. Initialize state to `KL`. Set Reference Velocity `ref_vel = 0`\n",
        "2. Get all cars within threshold `range=100m` of ego car.\n",
        "3. Find the closest cars ahead and behind of the ego car in each lane and get their speeds.\n",
        "4. Check if lane change is feasible by comparing the speeds & ranges of closest cars in neighboring lanes.\n",
        "> 1. A lane change criteria is set based on the current FSM state as follows:\n",
        ">> 1. In `KL`: `laneChangeCriteria=20 m`\n",
        ">> 2. In `PLCL/PLCR`: `laneChangeCriteria=15 m`\n",
        ">> 3. In `LCL/LCR`: `laneChangeCriteria=10 m`\n",
        "> 2. In each lane, $i$:\n",
        ">> 1. Get the states of the closest vehicle ahead  (indexed by $j$) and behind  ($k$) the ego car.\n",
        ">> 2. If both the cars $j$ & $k$ are within `laneChangeCriteria`, lane change is not feasible. Set $`PLC[i]=false`.\n",
        ">> 3. If `PLC[i] != false`, compute the following metric, $\\delta_i$:\n",
        "$$ \\begin{align} \\Delta s_i = s_{j,i} - s_e \\\\ \\Delta v_i = v_e - v_{j,i} \\\\ \\delta_i = \\frac{\\Delta s_i}{\\Delta v_i} - \\frac{\\Delta v_i}{a_{\\max}}\\end{align}$$  where $a_{\\max}$ is acceleration limit.\n",
        ">> 4. If $\\delta_i > 0$ for both the cars $j$ & $k$, lane change is feasible. Set `PLC[i]=true`.\n",
        "5. We compute reference speeds for ego car for each lane $i$ based on the speeds of the closest cars $j$ & $k$  \n",
        "> 1. For the closest car ahead: $v1_{i} = \\max(v_{j,i},v_e - a_{\\max}\\Delta t)$\n",
        "> 2. For the closest car behind: $v2_{i} = v_{k,i}$\n",
        "\n",
        ">>>> $v_{ref,i} = \\min(v_e + a_{\\max}\\Delta t,v1_i,v2_i,\\text{Speed Limit})$\n",
        "\n",
        "6. Trajectories from current lane to the middle of every other lane $i$ are generated by interpolating a spline from current position to the middle of each lane for a distance `100 m` ahead.\n",
        "7. Each of the trajectories are evaluated against a cost metric to pick the best next lane (and FSM state). \n",
        "> 1. Speed Cost: A speed cost function is for each lane determines a metric that takes into account the difference of speed from the speed limit and how close each car is to the ego car for each lane.\n",
        "$$ \\text{Speed Cost}(i) = \\frac{1}{n_i}\\sum_{p=1}^{n_i}{\\frac{\\text{Speed Limit} - v_{p,i}}{\\lvert s_e - s_{p,i} \\rvert}} $$\n",
        "> 2. Lane Change Cost: To prevent constant switching between lanes, a lane change penalty of 0.5 if applied as a factor to the speed cost function value for each lane change. For each lane $i$:\n",
        ">> * If $i == \\text{current lane}$: `Lane change cost(i) = 1.0`\n",
        ">> * If $i \\ne \\text{current lane}$ & `PLC[i] = true`: `Lane change cost(i) = 0.5`\n",
        ">> * Else: `Lane change cost(i) = 1000` since lane change is not feasible.\n",
        "> 3. $\\text{Total Cost(i)} = \\text{Lane change cost(i)} \\times \\text{Speed Cost}(i)$\n",
        "8. From the total costs, the next FSM state is determined by:\n",
        "> 1. If `current state = KL` & $\\arg\\min(\\text{Total Cost}) == \\text{current lane}$, `next_state = KL`\n",
        "> 2. If `current state = KL` & $\\arg\\min(\\text{Total Cost}) < \\text{current lane}$, `next_state = PLCL`\n",
        "> 3. If `current state = KL` & $\\arg\\min(\\text{Total Cost}) > \\text{current lane}$, `next_state = PLCR`\n",
        "\n",
        "\n",
        "This scheme supports a double lane change maneuver as a sequence of multiple single lane change maneuvers. The algorithm also supports aborting lane changes either in the `PLCL/PLCR` or `LCL/LCR` states.\n",
        "\n",
        "\n",
        "\n",
        "\n",
        "\n"
      ]
    },
    {
      "cell_type": "markdown",
      "metadata": {
        "id": "HW-SnKidqdtS"
      },
      "source": [
        "\n",
        "### Map & Coordinate Systems\n",
        "The `map_waypoints_s`,`map_waypoints_x` & `map_waypoints_y` are 1D vectors containing the frenet-s (distance from start of loop), global X and global \n",
        "Y coordinate of the highway.\n",
        "\n",
        "### Car States\n",
        "The state of each car is defined by a vector of size 6 defined by:\n",
        "*   unique ID (-1 for ego car)\n",
        "*   Lane ID\n",
        "*   Distance along road (s position in frenet coordinates)\n",
        "*   Cross-track error (d position in frenet coordinates)\n",
        "*   x velocity in m/s\n",
        "*   y velocity in m/s\n",
        "\n",
        "### Get Closest Cars\n",
        "A threshold for tracking closest cars is set to 100m. From the sensor fusion data, all the cars that are within this range of the ego-car are determined and their motion predicted for the next time step. Based on this prediction, the lane location of these nearby cars is determined."
      ]
    }
  ]
}